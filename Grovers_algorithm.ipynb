{
 "cells": [
  {
   "cell_type": "code",
   "execution_count": 1,
   "id": "d8e26604",
   "metadata": {},
   "outputs": [],
   "source": [
    "my_list = [1,4,7,1,3,5,1,9,6,2]"
   ]
  },
  {
   "cell_type": "code",
   "execution_count": 2,
   "id": "74fbb1ab",
   "metadata": {},
   "outputs": [],
   "source": [
    "def the_oracle(my_input):\n",
    "    winner=9\n",
    "    if my_input is winner:\n",
    "        response = True\n",
    "    else:\n",
    "        response = False\n",
    "    return response"
   ]
  },
  {
   "cell_type": "code",
   "execution_count": 3,
   "id": "190a56b2",
   "metadata": {},
   "outputs": [
    {
     "name": "stdout",
     "output_type": "stream",
     "text": [
      "Winner found at index 7\n",
      "8 calls to the Oracle used\n"
     ]
    }
   ],
   "source": [
    "for index,trial_number in enumerate(my_list):\n",
    "    if the_oracle(trial_number) is True:\n",
    "        print('Winner found at index %i'%index)\n",
    "        print('%i calls to the Oracle used'%(index+1))"
   ]
  },
  {
   "cell_type": "code",
   "execution_count": 4,
   "id": "4fd2aa5a",
   "metadata": {},
   "outputs": [],
   "source": [
    "from qiskit import *\n",
    "import matplotlib.pyplot as plt\n",
    "import numpy as np"
   ]
  },
  {
   "cell_type": "code",
   "execution_count": 6,
   "id": "864636d6",
   "metadata": {},
   "outputs": [
    {
     "data": {
      "text/html": [
       "<pre style=\"word-wrap: normal;white-space: pre;background: #fff0;line-height: 1.1;font-family: &quot;Courier New&quot;,Courier,monospace\">        \n",
       "q_0: ─■─\n",
       "      │ \n",
       "q_1: ─■─\n",
       "        </pre>"
      ],
      "text/plain": [
       "        \n",
       "q_0: ─■─\n",
       "      │ \n",
       "q_1: ─■─\n",
       "        "
      ]
     },
     "execution_count": 6,
     "metadata": {},
     "output_type": "execute_result"
    }
   ],
   "source": [
    "#define the oracle circuit\n",
    "oracle = QuantumCircuit(2,name='AllSeeingEye')\n",
    "oracle.cz(0,1)\n",
    "oracle.to_gate()\n",
    "oracle.draw()"
   ]
  },
  {
   "cell_type": "code",
   "execution_count": 8,
   "id": "5953caae",
   "metadata": {},
   "outputs": [
    {
     "data": {
      "text/html": [
       "<pre style=\"word-wrap: normal;white-space: pre;background: #fff0;line-height: 1.1;font-family: &quot;Courier New&quot;,Courier,monospace\">     ┌───┐┌───────────────┐\n",
       "q_0: ┤ H ├┤0              ├\n",
       "     ├───┤│  AllSeeingEye │\n",
       "q_1: ┤ H ├┤1              ├\n",
       "     └───┘└───────────────┘\n",
       "c: 2/══════════════════════\n",
       "                           </pre>"
      ],
      "text/plain": [
       "     ┌───┐┌───────────────┐\n",
       "q_0: ┤ H ├┤0              ├\n",
       "     ├───┤│  AllSeeingEye │\n",
       "q_1: ┤ H ├┤1              ├\n",
       "     └───┘└───────────────┘\n",
       "c: 2/══════════════════════\n",
       "                           "
      ]
     },
     "execution_count": 8,
     "metadata": {},
     "output_type": "execute_result"
    }
   ],
   "source": [
    "backend = Aer.get_backend('statevector_simulator')\n",
    "grover_circuit = QuantumCircuit(2,2)\n",
    "grover_circuit.h([0,1])\n",
    "grover_circuit.append(oracle,[0,1])\n",
    "grover_circuit.draw()"
   ]
  },
  {
   "cell_type": "code",
   "execution_count": 9,
   "id": "b8a37a73",
   "metadata": {},
   "outputs": [],
   "source": [
    "job = execute(grover_circuit,backend)\n",
    "result = job.result()"
   ]
  },
  {
   "cell_type": "code",
   "execution_count": 10,
   "id": "60bb817b",
   "metadata": {},
   "outputs": [
    {
     "data": {
      "text/plain": [
       "array([ 0.5+0.j,  0.5+0.j,  0.5+0.j, -0.5+0.j])"
      ]
     },
     "execution_count": 10,
     "metadata": {},
     "output_type": "execute_result"
    }
   ],
   "source": [
    "sv = result.get_statevector()\n",
    "np.around(sv,2)"
   ]
  },
  {
   "cell_type": "code",
   "execution_count": 11,
   "id": "ff0c50b9",
   "metadata": {},
   "outputs": [
    {
     "data": {
      "text/plain": [
       "Instruction(name='MirrorMirror', num_qubits=2, num_clbits=0, params=[])"
      ]
     },
     "execution_count": 11,
     "metadata": {},
     "output_type": "execute_result"
    }
   ],
   "source": [
    "reflection = QuantumCircuit(2,name='MirrorMirror')\n",
    "reflection.h([0,1])\n",
    "reflection.z([0,1])\n",
    "reflection.cz(0,1)\n",
    "reflection.h([0,1])\n",
    "reflection.to_gate()"
   ]
  },
  {
   "cell_type": "code",
   "execution_count": 12,
   "id": "fc34a74f",
   "metadata": {},
   "outputs": [
    {
     "data": {
      "text/html": [
       "<pre style=\"word-wrap: normal;white-space: pre;background: #fff0;line-height: 1.1;font-family: &quot;Courier New&quot;,Courier,monospace\">     ┌───┐┌───┐   ┌───┐\n",
       "q_0: ┤ H ├┤ Z ├─■─┤ H ├\n",
       "     ├───┤├───┤ │ ├───┤\n",
       "q_1: ┤ H ├┤ Z ├─■─┤ H ├\n",
       "     └───┘└───┘   └───┘</pre>"
      ],
      "text/plain": [
       "     ┌───┐┌───┐   ┌───┐\n",
       "q_0: ┤ H ├┤ Z ├─■─┤ H ├\n",
       "     ├───┤├───┤ │ ├───┤\n",
       "q_1: ┤ H ├┤ Z ├─■─┤ H ├\n",
       "     └───┘└───┘   └───┘"
      ]
     },
     "execution_count": 12,
     "metadata": {},
     "output_type": "execute_result"
    }
   ],
   "source": [
    "reflection.draw()"
   ]
  },
  {
   "cell_type": "code",
   "execution_count": 13,
   "id": "9a7be13e",
   "metadata": {},
   "outputs": [
    {
     "data": {
      "text/plain": [
       "<qiskit.circuit.instructionset.InstructionSet at 0x201ffc55160>"
      ]
     },
     "execution_count": 13,
     "metadata": {},
     "output_type": "execute_result"
    }
   ],
   "source": [
    "backend = Aer.get_backend('qasm_simulator')\n",
    "grover_circuit = QuantumCircuit(2,2)\n",
    "grover_circuit.h([0,1])\n",
    "grover_circuit.append(oracle,[0,1])\n",
    "grover_circuit.append(reflection,[0,1])\n",
    "grover_circuit.measure([0,1],[0,1])"
   ]
  },
  {
   "cell_type": "code",
   "execution_count": 14,
   "id": "2cd44b4f",
   "metadata": {},
   "outputs": [
    {
     "data": {
      "text/html": [
       "<pre style=\"word-wrap: normal;white-space: pre;background: #fff0;line-height: 1.1;font-family: &quot;Courier New&quot;,Courier,monospace\">     ┌───┐┌───────────────┐┌───────────────┐┌─┐   \n",
       "q_0: ┤ H ├┤0              ├┤0              ├┤M├───\n",
       "     ├───┤│  AllSeeingEye ││  MirrorMirror │└╥┘┌─┐\n",
       "q_1: ┤ H ├┤1              ├┤1              ├─╫─┤M├\n",
       "     └───┘└───────────────┘└───────────────┘ ║ └╥┘\n",
       "c: 2/════════════════════════════════════════╩══╩═\n",
       "                                             0  1 </pre>"
      ],
      "text/plain": [
       "     ┌───┐┌───────────────┐┌───────────────┐┌─┐   \n",
       "q_0: ┤ H ├┤0              ├┤0              ├┤M├───\n",
       "     ├───┤│  AllSeeingEye ││  MirrorMirror │└╥┘┌─┐\n",
       "q_1: ┤ H ├┤1              ├┤1              ├─╫─┤M├\n",
       "     └───┘└───────────────┘└───────────────┘ ║ └╥┘\n",
       "c: 2/════════════════════════════════════════╩══╩═\n",
       "                                             0  1 "
      ]
     },
     "execution_count": 14,
     "metadata": {},
     "output_type": "execute_result"
    }
   ],
   "source": [
    "grover_circuit.draw()"
   ]
  },
  {
   "cell_type": "code",
   "execution_count": 15,
   "id": "8f290e31",
   "metadata": {},
   "outputs": [
    {
     "data": {
      "text/plain": [
       "{'11': 1}"
      ]
     },
     "execution_count": 15,
     "metadata": {},
     "output_type": "execute_result"
    }
   ],
   "source": [
    "job=execute(grover_circuit,backend,shots=1)\n",
    "result=job.result()\n",
    "result.get_counts()"
   ]
  },
  {
   "cell_type": "code",
   "execution_count": null,
   "id": "72685835",
   "metadata": {},
   "outputs": [],
   "source": []
  }
 ],
 "metadata": {
  "kernelspec": {
   "display_name": "Python 3 (ipykernel)",
   "language": "python",
   "name": "python3"
  },
  "language_info": {
   "codemirror_mode": {
    "name": "ipython",
    "version": 3
   },
   "file_extension": ".py",
   "mimetype": "text/x-python",
   "name": "python",
   "nbconvert_exporter": "python",
   "pygments_lexer": "ipython3",
   "version": "3.9.13"
  }
 },
 "nbformat": 4,
 "nbformat_minor": 5
}
