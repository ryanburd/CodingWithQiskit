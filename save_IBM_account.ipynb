{
 "cells": [
  {
   "cell_type": "code",
   "execution_count": 1,
   "id": "fcb729e6",
   "metadata": {},
   "outputs": [],
   "source": [
    "import qiskit"
   ]
  },
  {
   "cell_type": "code",
   "execution_count": 2,
   "id": "c1a14725",
   "metadata": {},
   "outputs": [
    {
     "data": {
      "text/plain": [
       "{'qiskit-terra': '0.21.0', 'qiskit-aer': '0.10.4', 'qiskit-ignis': None, 'qiskit-ibmq-provider': '0.19.2', 'qiskit': '0.37.0', 'qiskit-nature': None, 'qiskit-finance': None, 'qiskit-optimization': None, 'qiskit-machine-learning': None}"
      ]
     },
     "execution_count": 2,
     "metadata": {},
     "output_type": "execute_result"
    }
   ],
   "source": [
    "qiskit.__qiskit_version__"
   ]
  },
  {
   "cell_type": "code",
   "execution_count": 3,
   "id": "dd52439c",
   "metadata": {},
   "outputs": [],
   "source": [
    "from qiskit import IBMQ"
   ]
  },
  {
   "cell_type": "code",
   "execution_count": 8,
   "id": "f013d184",
   "metadata": {},
   "outputs": [],
   "source": [
    "API_token = \"47cdfdfeab3dc6afa49f9d6f80f5db5f8a502e485241df40b7d6a98e2411c39abc7cfb8cab5008b42f84278738742fc7552ca73f3a5bd27ff63b00685d1c86dd\"\n",
    "IBMQ.save_account(API_token)"
   ]
  },
  {
   "cell_type": "code",
   "execution_count": 9,
   "id": "ca340be4",
   "metadata": {},
   "outputs": [
    {
     "data": {
      "text/plain": [
       "<AccountProvider for IBMQ(hub='ibm-q', group='open', project='main')>"
      ]
     },
     "execution_count": 9,
     "metadata": {},
     "output_type": "execute_result"
    }
   ],
   "source": [
    "IBMQ.load_account()"
   ]
  },
  {
   "cell_type": "code",
   "execution_count": null,
   "id": "8fc894d8",
   "metadata": {},
   "outputs": [],
   "source": []
  }
 ],
 "metadata": {
  "kernelspec": {
   "display_name": "Python 3 (ipykernel)",
   "language": "python",
   "name": "python3"
  },
  "language_info": {
   "codemirror_mode": {
    "name": "ipython",
    "version": 3
   },
   "file_extension": ".py",
   "mimetype": "text/x-python",
   "name": "python",
   "nbconvert_exporter": "python",
   "pygments_lexer": "ipython3",
   "version": "3.9.12"
  }
 },
 "nbformat": 4,
 "nbformat_minor": 5
}
